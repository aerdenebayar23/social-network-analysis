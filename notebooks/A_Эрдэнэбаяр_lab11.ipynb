{
  "cells": [
    {
      "cell_type": "code",
      "source": [
        "!pip install linkpred"
      ],
      "metadata": {
        "colab": {
          "base_uri": "https://localhost:8080/"
        },
        "id": "sm1TtWvaK8Wa",
        "outputId": "a838d88e-a8c2-4f59-8c51-cdafa5a876e2"
      },
      "execution_count": null,
      "outputs": [
        {
          "output_type": "stream",
          "name": "stdout",
          "text": [
            "Requirement already satisfied: linkpred in /usr/local/lib/python3.11/dist-packages (0.6)\n",
            "Requirement already satisfied: matplotlib>=3.5 in /usr/local/lib/python3.11/dist-packages (from linkpred) (3.10.0)\n",
            "Requirement already satisfied: networkx>=3.0 in /usr/local/lib/python3.11/dist-packages (from linkpred) (3.4.2)\n",
            "Requirement already satisfied: numpy>=1.23 in /usr/local/lib/python3.11/dist-packages (from linkpred) (2.0.2)\n",
            "Requirement already satisfied: pyyaml>=3.0 in /usr/local/lib/python3.11/dist-packages (from linkpred) (6.0.2)\n",
            "Requirement already satisfied: scipy>=1.10 in /usr/local/lib/python3.11/dist-packages (from linkpred) (1.14.1)\n",
            "Requirement already satisfied: smokesignal>=0.7 in /usr/local/lib/python3.11/dist-packages (from linkpred) (0.7.0)\n",
            "Requirement already satisfied: contourpy>=1.0.1 in /usr/local/lib/python3.11/dist-packages (from matplotlib>=3.5->linkpred) (1.3.1)\n",
            "Requirement already satisfied: cycler>=0.10 in /usr/local/lib/python3.11/dist-packages (from matplotlib>=3.5->linkpred) (0.12.1)\n",
            "Requirement already satisfied: fonttools>=4.22.0 in /usr/local/lib/python3.11/dist-packages (from matplotlib>=3.5->linkpred) (4.57.0)\n",
            "Requirement already satisfied: kiwisolver>=1.3.1 in /usr/local/lib/python3.11/dist-packages (from matplotlib>=3.5->linkpred) (1.4.8)\n",
            "Requirement already satisfied: packaging>=20.0 in /usr/local/lib/python3.11/dist-packages (from matplotlib>=3.5->linkpred) (24.2)\n",
            "Requirement already satisfied: pillow>=8 in /usr/local/lib/python3.11/dist-packages (from matplotlib>=3.5->linkpred) (11.1.0)\n",
            "Requirement already satisfied: pyparsing>=2.3.1 in /usr/local/lib/python3.11/dist-packages (from matplotlib>=3.5->linkpred) (3.2.3)\n",
            "Requirement already satisfied: python-dateutil>=2.7 in /usr/local/lib/python3.11/dist-packages (from matplotlib>=3.5->linkpred) (2.8.2)\n",
            "Requirement already satisfied: six>=1.5 in /usr/local/lib/python3.11/dist-packages (from python-dateutil>=2.7->matplotlib>=3.5->linkpred) (1.17.0)\n"
          ]
        }
      ]
    },
    {
      "cell_type": "markdown",
      "metadata": {
        "id": "Xf-9dAZqKyAb"
      },
      "source": [
        "In order to check if ``linkpred`` has been correctly installed just try to import it"
      ]
    },
    {
      "cell_type": "code",
      "execution_count": null,
      "metadata": {
        "id": "1dg4VTCdKyAb"
      },
      "outputs": [],
      "source": [
        "import linkpred"
      ]
    },
    {
      "cell_type": "code",
      "execution_count": null,
      "metadata": {
        "id": "EH7B5D1jKyAc"
      },
      "outputs": [],
      "source": [
        "%matplotlib inline\n",
        "import matplotlib.pyplot as plt\n",
        "import networkx as nx"
      ]
    },
    {
      "cell_type": "code",
      "execution_count": null,
      "metadata": {
        "id": "4Q6nPUHMKyAd"
      },
      "outputs": [],
      "source": [
        "def read_net_w(filename):\n",
        "    g = nx.Graph()\n",
        "    with open(filename) as f:\n",
        "        f.readline()\n",
        "        for l in f:\n",
        "            l = l.split(\",\")\n",
        "            g.add_edge(l[0], l[1], weight=int(l[2]))\n",
        "    return g\n",
        "\n",
        "g = read_net_w(f'got-s6-edges.csv')"
      ]
    },
    {
      "cell_type": "code",
      "execution_count": null,
      "metadata": {
        "colab": {
          "base_uri": "https://localhost:8080/"
        },
        "id": "QgQxVNvUKyAd",
        "outputId": "503ac747-0057-4b7c-cb2c-60a8b6d87227"
      },
      "outputs": [
        {
          "output_type": "stream",
          "name": "stdout",
          "text": [
            "TOMMEN - MACE 8.0\n",
            "NED - LADY_CRANE 8.0\n",
            "NED - CLARENZO 8.0\n",
            "MARGAERY - IZEMBARO 8.0\n",
            "MARGAERY - ARYA 8.0\n"
          ]
        }
      ],
      "source": [
        "cn = linkpred.predictors.CommonNeighbours(g, excluded=g.edges())\n",
        "cn_results = cn.predict()\n",
        "\n",
        "top = cn_results.top(5)\n",
        "for edge, score in top.items():\n",
        "    print(edge, score)"
      ]
    },
    {
      "cell_type": "code",
      "execution_count": null,
      "metadata": {
        "colab": {
          "base_uri": "https://localhost:8080/"
        },
        "id": "wRaRNIPnKyAg",
        "outputId": "e2e3e583-c9db-4e0e-d8d8-04ce8e461f14"
      },
      "outputs": [
        {
          "output_type": "stream",
          "name": "stdout",
          "text": [
            "RED_PRIEST - KINVARA 1.0\n",
            "LITTLE_SAM - DICKON 1.0\n",
            "TOMMEN - MACE 0.7272727272727273\n",
            "JOFFREY - CAMELLO 0.7272727272727273\n",
            "OLD_NAN - BENJEN 0.7142857142857143\n"
          ]
        }
      ],
      "source": [
        "jc = linkpred.predictors.Jaccard(g, excluded=g.edges())\n",
        "jc_results = jc.predict()\n",
        "\n",
        "top = jc_results.top(5)\n",
        "for edge, score in top.items():\n",
        "    print(edge, score)"
      ]
    },
    {
      "cell_type": "code",
      "execution_count": null,
      "metadata": {
        "colab": {
          "base_uri": "https://localhost:8080/"
        },
        "id": "62ms2Se2KyAj",
        "outputId": "69ecc2c5-cf32-4486-9181-a265a42ec6af"
      },
      "outputs": [
        {
          "output_type": "stream",
          "name": "stdout",
          "text": [
            "TOMMEN - MACE 3.1875572810307893\n",
            "NED - LADY_CRANE 3.1263711657257836\n",
            "NED - CLARENZO 3.1263711657257836\n",
            "SANSA - ROBB 3.0966443151332466\n",
            "JOFFREY - CAMELLO 2.8944937119329137\n"
          ]
        }
      ],
      "source": [
        "aa = linkpred.predictors.AdamicAdar(g, excluded=g.edges())\n",
        "aa_results = aa.predict()\n",
        "\n",
        "top = aa_results.top(5)\n",
        "for edge, score in top.items():\n",
        "    print(edge, score)"
      ]
    },
    {
      "cell_type": "code",
      "execution_count": null,
      "metadata": {
        "colab": {
          "base_uri": "https://localhost:8080/"
        },
        "id": "DJ7dMamPKyAm",
        "outputId": "cdfc8d94-c372-4d46-af97-0a5fbb78ccdb"
      },
      "outputs": [
        {
          "output_type": "stream",
          "name": "stdout",
          "text": [
            "\n",
            "LADY_CRANE - JAQEN 0.005571576860773001\n",
            "SANSA - ALLISER_THORNE 0.004234378077202\n",
            "TYRION - DAARIO 0.004145905054793999\n",
            "CERSEI - BRIENNE 0.0038862606857720003\n",
            "MELISANDRE - LYANNA_MORMONT 0.0035937193855959996\n"
          ]
        }
      ],
      "source": [
        "kz = linkpred.predictors.Katz(g, excluded=g.edges())\n",
        "kz_results = kz.predict()\n",
        "\n",
        "top = kz_results.top(5)\n",
        "for edge, score in top.items():\n",
        "    print(edge, score)"
      ]
    },
    {
      "cell_type": "code",
      "execution_count": null,
      "metadata": {
        "colab": {
          "base_uri": "https://localhost:8080/"
        },
        "id": "F50ZjpetKyAo",
        "outputId": "16a24d7f-db61-4e6f-f6f0-371396ed0adf"
      },
      "outputs": [
        {
          "output_type": "stream",
          "name": "stdout",
          "text": [
            "LADY_CRANE - JAQEN 36.136054421768705\n",
            "TYRION - DAARIO 30.29268292682927\n",
            "CERSEI - BRIENNE 28.44827586206896\n",
            "MELISANDRE - LITTLEFINGER 23.427491305005294\n",
            "CERSEI - BRONN 23.294117647058822\n"
          ]
        }
      ],
      "source": [
        "gd = linkpred.predictors.GraphDistance(g, excluded=g.edges())\n",
        "gd_results = gd.predict()\n",
        "\n",
        "top = gd_results.top(5)\n",
        "for edge, score in top.items():\n",
        "    print(edge, score)"
      ]
    },
    {
      "cell_type": "code",
      "execution_count": null,
      "metadata": {
        "colab": {
          "base_uri": "https://localhost:8080/"
        },
        "id": "HlaGxpPrKyAr",
        "outputId": "282e4f2d-0b02-4f9f-c8d7-5fb72fcb5940"
      },
      "outputs": [
        {
          "output_type": "stream",
          "name": "stdout",
          "text": [
            "MAESTER_CITADEL - MAESTER_AEMON 0.3920701611834253\n",
            "RAY - GATINS 0.3886464843365491\n",
            "GATINS - BERIC 0.3675791855431439\n",
            "THOROS - GATINS 0.3636591552182033\n",
            "MAESTER_AEMON - GILLY 0.319889623157789\n"
          ]
        }
      ],
      "source": [
        "simrank = linkpred.predictors.SimRank(g, excluded=g.edges())\n",
        "simrank_results = simrank.predict(c=0.5)\n",
        "\n",
        "top = simrank_results.top(5)\n",
        "for edge, score in top.items():\n",
        "    print(edge, score)"
      ]
    },
    {
      "cell_type": "code",
      "execution_count": null,
      "metadata": {
        "colab": {
          "base_uri": "https://localhost:8080/"
        },
        "id": "h5vrAcJyKyAv",
        "outputId": "8ffd945d-021a-4e78-d11b-6b45713073a6"
      },
      "outputs": [
        {
          "output_type": "stream",
          "name": "stdout",
          "text": [
            "MAESTER_DORNE - DAENERYS 0.9999821828307841\n",
            "RICKON - OSHA 0.9999681205706265\n",
            "YOHN_ROYCE - TYENE 0.9997629974001793\n",
            "MAESTER_CITADEL - DICKON 0.999759809160803\n",
            "MANCE - AREO 0.9996595224185589\n"
          ]
        }
      ],
      "source": [
        "rnd = linkpred.predictors.Random(g, excluded=g.edges())\n",
        "rnd_results = rnd.predict()\n",
        "\n",
        "top = rnd_results.top(5)\n",
        "for edge, score in top.items():\n",
        "    print(edge, score)"
      ]
    },
    {
      "cell_type": "code",
      "execution_count": null,
      "metadata": {
        "id": "EHeI-tp3KyAy"
      },
      "outputs": [],
      "source": [
        "import random\n",
        "import itertools\n",
        "from linkpred.evaluation import Pair\n",
        "\n",
        "test = read_net_w(f'got-s7-edges.csv')\n",
        "\n",
        "training = g.copy()\n",
        "\n",
        "nodes = list(g.nodes())\n",
        "nodes.extend(list(test.nodes()))\n",
        "\n",
        "test = [Pair(i) for i in test.edges()]\n",
        "universe = set([Pair(i) for i in itertools.product(nodes, nodes) if i[0]!=i[1]])"
      ]
    },
    {
      "cell_type": "code",
      "execution_count": null,
      "metadata": {
        "id": "nKpYPVp8KyAy"
      },
      "outputs": [],
      "source": [
        "cn = linkpred.predictors.CommonNeighbours(training, excluded=training.edges())\n",
        "cn_results = cn.predict()\n",
        "\n",
        "aa = linkpred.predictors.AdamicAdar(training, excluded=training.edges())\n",
        "aa_results = aa.predict()\n",
        "\n",
        "jc = linkpred.predictors.Jaccard(training, excluded=training.edges())\n",
        "jc_results = jc.predict()"
      ]
    },
    {
      "cell_type": "code",
      "execution_count": null,
      "metadata": {
        "id": "a7dXbWUtKyAz"
      },
      "outputs": [],
      "source": [
        "cn_evaluation = linkpred.evaluation.EvaluationSheet(cn_results, test, universe)\n",
        "aa_evaluation = linkpred.evaluation.EvaluationSheet(aa_results, test, universe)\n",
        "jc_evaluation = linkpred.evaluation.EvaluationSheet(jc_results, test, universe)"
      ]
    },
    {
      "cell_type": "code",
      "execution_count": null,
      "metadata": {
        "colab": {
          "base_uri": "https://localhost:8080/",
          "height": 449
        },
        "id": "5SryFMW-KyAz",
        "outputId": "b4121ba9-3ecf-4422-d87c-31bf246df0f7"
      },
      "outputs": [
        {
          "output_type": "display_data",
          "data": {
            "text/plain": [
              "<Figure size 640x480 with 1 Axes>"
            ],
            "image/png": "[encoded data removed]"
          },
          "metadata": {}
        }
      ],
      "source": [
        "plt.plot(cn_evaluation.fallout(), cn_evaluation.recall(), label=\"Common Neighbors\")\n",
        "plt.plot(aa_evaluation.fallout(), aa_evaluation.recall(), label=\"Adamic Adar\")\n",
        "plt.plot(jc_evaluation.fallout(), jc_evaluation.recall(), label=\"Jaccard\")\n",
        "plt.ylabel(\"TPR\")\n",
        "plt.xlabel(\"FPR\")\n",
        "plt.legend()\n",
        "plt.show()"
      ]
    },
    {
      "cell_type": "code",
      "execution_count": null,
      "metadata": {
        "colab": {
          "base_uri": "https://localhost:8080/"
        },
        "id": "YRiqI1FGKyA0",
        "outputId": "d6d8132f-4664-4e02-aad0-76a6c41febcd"
      },
      "outputs": [
        {
          "output_type": "stream",
          "name": "stdout",
          "text": [
            "Area Under Roc Curve (AUROC)\n",
            "Common Neigh.: \t 0.026832485313825823\n",
            "Adamic Adar: \t 0.027259625028069757\n",
            "Jaccard: \t 0.018894838921578106\n"
          ]
        }
      ],
      "source": [
        "from sklearn.metrics import auc\n",
        "\n",
        "print(\"Area Under Roc Curve (AUROC)\")\n",
        "print(f\"Common Neigh.: \\t {auc(cn_evaluation.fallout(), cn_evaluation.recall())}\")\n",
        "print(f\"Adamic Adar: \\t {auc(aa_evaluation.fallout(), aa_evaluation.recall())}\")\n",
        "print(f\"Jaccard: \\t {auc(jc_evaluation.fallout(), jc_evaluation.recall())}\")"
      ]
    }
  ],
  "metadata": {
    "kernelspec": {
      "display_name": "Python 3",
      "language": "python",
      "name": "python3"
    },
    "language_info": {
      "codemirror_mode": {
        "name": "ipython",
        "version": 3
      },
      "file_extension": ".py",
      "mimetype": "text/x-python",
      "name": "python",
      "nbconvert_exporter": "python",
      "pygments_lexer": "ipython3",
      "version": "3.6.5-final"
    },
    "colab": {
      "provenance": []
    }
  },
  "nbformat": 4,
  "nbformat_minor": 0
}